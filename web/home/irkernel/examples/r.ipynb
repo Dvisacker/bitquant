{
 "metadata": {
  "name": "",
  "signature": "sha256:dff2e887f7d36de3753df6d3cfb6240b6318ac5e517bb345313f24a726e9399b"
 },
 "nbformat": 3,
 "nbformat_minor": 0,
 "worksheets": [
  {
   "cells": [
    {
     "cell_type": "code",
     "collapsed": false,
     "input": [
      "pi"
     ],
     "language": "python",
     "metadata": {},
     "outputs": []
    },
    {
     "cell_type": "code",
     "collapsed": false,
     "input": [
      "Square <- function(x) {\n",
      "  return(x^2)\n",
      "}\n",
      "\n",
      "print(Square(4))\n",
      "print(Square(x=4)) # same thing"
     ],
     "language": "python",
     "metadata": {},
     "outputs": []
    }
   ],
   "metadata": {}
  }
 ]
}