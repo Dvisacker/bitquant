{
 "cells": [
  {
   "cell_type": "code",
   "execution_count": null,
   "metadata": {
    "collapsed": false
   },
   "outputs": [],
   "source": [
    "# adapted from https://github.com/jmiedwards/Python---Black-Scholes-Pricing-calculator-\n",
    "\n",
    "from scipy import stats\n",
    "import math\n",
    "\n",
    "def date_fraction(start, to):\n",
    "    import calendar\n",
    "    from datetime import datetime\n",
    "    (year, month) = to.split(\"-\")\n",
    "    (weekday, lastday) = calendar.monthrange(int(year), int(month))\n",
    "    return abs((datetime(int(year), int(month), lastday)-datetime.strptime(start, \"%Y-%m-%d\")).days) / 365.0\n",
    "\n",
    "def black_scholes (cp, s, k, t, v, rf, div):\n",
    "        \"\"\" Price an option using the Black-Scholes model.\n",
    "        s: initial stock price\n",
    "        k: strike price\n",
    "        t: expiration time\n",
    "        v: volatility\n",
    "        rf: risk-free rate\n",
    "        div: dividend\n",
    "        cp: +1/-1 for call/put\n",
    "        \"\"\"\n",
    "        if (s <= 0.0):\n",
    "            s = 0.0\n",
    "        if (t == 0.0 or v==0.0 or s==0):\n",
    "            return max(0.0, cp * (s-k))\n",
    "\n",
    "        d1  = (math.log(s/k)+(rf-div+0.5*math.pow(v,2))*t)/(v*math.sqrt(t))\n",
    "        d2 = d1 - v*math.sqrt(t)\n",
    "\n",
    "        optprice = (cp*s*math.exp(-div*t)*stats.norm.cdf(cp*d1)) - (cp*k*math.exp(-rf*t)*stats.norm.cdf(cp*d2))\n",
    "        return optprice\n",
    "\n",
    "if __name__ == \"__main__\":\n",
    "    print(date_fraction(\"2015-07-02\", \"2015-09\"))"
   ]
  },
  {
   "cell_type": "code",
   "execution_count": null,
   "metadata": {
    "collapsed": true
   },
   "outputs": [],
   "source": []
  }
 ],
 "metadata": {
  "kernelspec": {
   "display_name": "Python 3",
   "language": "python",
   "name": "python3"
  },
  "language_info": {
   "codemirror_mode": {
    "name": "ipython",
    "version": 3
   },
   "file_extension": ".py",
   "mimetype": "text/x-python",
   "name": "python",
   "nbconvert_exporter": "python",
   "pygments_lexer": "ipython3",
   "version": "3.4.3"
  }
 },
 "nbformat": 4,
 "nbformat_minor": 0
}
