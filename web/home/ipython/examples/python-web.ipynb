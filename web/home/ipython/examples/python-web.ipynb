{
 "metadata": {
  "name": "",
  "signature": "sha256:8dd64114137424f92dbd33022ea3abcc4d95867c8f56e81f6772e88b815d35a0"
 },
 "nbformat": 3,
 "nbformat_minor": 0,
 "worksheets": [
  {
   "cells": [
    {
     "cell_type": "code",
     "collapsed": false,
     "input": [
      "#This creates a web service located off \n",
      "# http://localhost/python-web/\n",
      "#\n",
      "# To shutdown the server you will need to\n",
      "# restart the kernel\n",
      "\n",
      "import tornado.httpserver\n",
      "import tornado.ioloop\n",
      "import tornado.options\n",
      "import tornado.web\n",
      "\n",
      "from tornado.options import define, options\n",
      "port = 9010\n",
      "\n",
      "class MainHandler(tornado.web.RequestHandler):\n",
      "    def get(self):\n",
      "        self.write(\"Hello, world\")\n",
      "    \n",
      "def main():\n",
      "    application = tornado.web.Application([\n",
      "        (r\"/\", MainHandler),\n",
      "    ])\n",
      "    http_server = tornado.httpserver.HTTPServer(application)\n",
      "    http_server.listen(port)\n",
      "    tornado.ioloop.IOLoop.instance().start()\n",
      "\n",
      "    "
     ],
     "language": "python",
     "metadata": {},
     "outputs": []
    },
    {
     "cell_type": "code",
     "collapsed": false,
     "input": [
      "main()"
     ],
     "language": "python",
     "metadata": {},
     "outputs": []
    },
    {
     "cell_type": "code",
     "collapsed": false,
     "input": [],
     "language": "python",
     "metadata": {},
     "outputs": []
    }
   ],
   "metadata": {}
  }
 ]
}