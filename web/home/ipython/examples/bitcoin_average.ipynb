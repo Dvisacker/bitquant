{
 "metadata": {
  "name": "",
  "signature": "sha256:46222b37928d7c7c8ba9042f3c20278703d4a5344b232d13da539c4ec898320f"
 },
 "nbformat": 3,
 "nbformat_minor": 0,
 "worksheets": [
  {
   "cells": [
    {
     "cell_type": "code",
     "collapsed": false,
     "input": [
      "import os\n",
      "class BitcoinAverager:\n",
      "    def __init__(self, exchange):\n",
      "        self.exchange = exchange\n",
      "        self.local_cache = exchange + \".csv.gz\"\n",
      "        self.data = None\n",
      "        self.retrieve_data()\n",
      "    def retrieve_data(self):\n",
      "        if not os.path.isfile(self.local_cache):\n",
      "            self.download_data()\n",
      "        self.create_table()\n",
      "    def download_data(self):\n",
      "        import urllib\n",
      "        testfile = urllib.URLopener()\n",
      "        testfile.retrieve(\"http://api.bitcoincharts.com/v1/csv/\" +\n",
      "                 self.exchange + \".csv.gz\", \n",
      "                          self.local_cache)\n",
      "    @staticmethod\n",
      "    def unix_epoch(dt):\n",
      "        import time\n",
      "        return time.mktime(dt.timetuple())\n",
      "    def create_table(self):\n",
      "        import gzip\n",
      "        import pandas as pd\n",
      "        u_cols = ['timestamp', 'value', 'amount']\n",
      "        with gzip.open(self.local_cache) as fp:\n",
      "            self.data = pd.read_csv(fp, names=u_cols)\n",
      "    def select(self, start, delta, tz_string):\n",
      "        from datetime import datetime, timedelta\n",
      "        from pytz import timezone\n",
      "        import pytz\n",
      "        utc = pytz.utc\n",
      "        tz = timezone(tz_string)\n",
      "        starttime = tz.localize(start)\n",
      "        endtime = starttime + delta\n",
      "        startepoch = self.unix_epoch(starttime)\n",
      "        endepoch = self.unix_epoch(endtime)\n",
      "        return self.data[(self.data.timestamp >= startepoch) &\n",
      "    (self.data.timestamp < endepoch)]\n",
      "    def weighted_sum(self, start, delta, tz_string):\n",
      "        selected = self.select(start, delta, tz_string)\n",
      "        return (selected.value * selected.amount).sum() / (selected.amount).sum()"
     ],
     "language": "python",
     "metadata": {},
     "outputs": []
    },
    {
     "cell_type": "code",
     "collapsed": false,
     "input": [
      "averager = BitcoinAverager(\"anxhkHKD\")"
     ],
     "language": "python",
     "metadata": {},
     "outputs": []
    },
    {
     "cell_type": "code",
     "collapsed": false,
     "input": [
      "from datetime import datetime, timedelta\n",
      "selected = averager.select(datetime(2014, 2, 1, 6, 0, 0),\n",
      "                timedelta(days=1),\n",
      "                \"Asia/Hong_Kong\")\n",
      "len(selected)"
     ],
     "language": "python",
     "metadata": {},
     "outputs": []
    },
    {
     "cell_type": "code",
     "collapsed": false,
     "input": [
      "%matplotlib inline"
     ],
     "language": "python",
     "metadata": {},
     "outputs": []
    },
    {
     "cell_type": "code",
     "collapsed": false,
     "input": [
      "selected.plot(x='timestamp', y='value')"
     ],
     "language": "python",
     "metadata": {},
     "outputs": []
    },
    {
     "cell_type": "code",
     "collapsed": false,
     "input": [
      "import datetime\n",
      "import time\n",
      "start_date = datetime.datetime(2014, 2, 1, 6, 0, 0)\n",
      "day_count = 30\n",
      "for d in (start_date + timedelta(days=n) for n in range(day_count)):\n",
      "     print time.strftime(\"%Y-%m-%d\", d.timetuple()), averager.weighted_sum(d, \n",
      "                                                                           timedelta(days=1),\n",
      "                                                                           \"Asia/Hong_Kong\")\n",
      "                                                                        "
     ],
     "language": "python",
     "metadata": {},
     "outputs": []
    },
    {
     "cell_type": "code",
     "collapsed": false,
     "input": [],
     "language": "python",
     "metadata": {},
     "outputs": []
    }
   ],
   "metadata": {}
  }
 ]
}