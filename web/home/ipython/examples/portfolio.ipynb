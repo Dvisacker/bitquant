{
 "cells": [
  {
   "cell_type": "markdown",
   "metadata": {},
   "source": [
    "\n",
    "Portfolio payoff routines\n",
    "\n",
    "These routines take a portfolio of call and put options and plots the payoff functions."
   ]
  },
  {
   "cell_type": "code",
   "execution_count": null,
   "metadata": {
    "collapsed": false
   },
   "outputs": [],
   "source": [
    "portfolio = [\n",
    "    [-10000, \"put\", \"2015-09\", 24.00, \"3888.HK\", 1.0],\n",
    "    [-10000, \"put\", \"2015-07\", 25.00, \"3888.HK\", 0.55],\n",
    "    [-10000, \"put\", \"2015-07\", 26.00, \"3888.HK\", 0.63],\n",
    "    [-10000, \"put\", \"2015-08\", 26.00, \"3888.HK\", 1.06],\n",
    "    [-5000, \"call\", \"2015-08\", 26.00, \"3888.HK\", 1.06],\n",
    "    [-5000, \"call\", \"2015-08\", 27.00, \"3888.HK\", 0.88],\n",
    "    [975928.19, \"cash\"]\n",
    "]\n",
    "\n",
    "trade = [\n",
    "    [-10000, \"put\",\"2015-08\", 18.50, \"3888.HK\", 1.05]\n",
    "]\n",
    "\n",
    "prices = {\n",
    "    \"3888.HK\": 22.6\n",
    "}\n",
    "\n",
    "marklines = [\n",
    "    250000,374920.00\n",
    "]\n",
    "\n",
    "def scale (prices, x):\n",
    "    return { k : prices[k]*x for k in prices.keys()}\n",
    "\n",
    "def merge_dicts(x, y):\n",
    "    '''Given two dicts, merge them into a new dict as a shallow copy.'''\n",
    "    z = x.copy()\n",
    "    z.update(y)\n",
    "    return z\n",
    "\n",
    "def portfolio_nav(portfolio_list, prices):\n",
    "    retval = 0.0\n",
    "    for portfolio in portfolio_list:\n",
    "        for asset in portfolio:\n",
    "            if asset[1] == \"cash\":\n",
    "                retval = retval +asset[0]\n",
    "            elif asset[1] == \"put\" or asset[1] == \"call\":\n",
    "                quantity = asset[0]\n",
    "                style = asset[1]\n",
    "                date = asset[2]\n",
    "                strike = asset[3]\n",
    "                underlying = asset[4]\n",
    "                purchase = asset[5]\n",
    "                exercise_value = 0.0\n",
    "                if asset[1] == \"put\" and prices[underlying] < strike:\n",
    "                    exercise_value = strike - prices[underlying]\n",
    "                if asset[1] == \"call\" and prices[underlying] > strike:\n",
    "                    exercise_value = prices[underlying] - strike\n",
    "                retval = retval + quantity * (exercise_value - purchase)\n",
    "    return retval\n"
   ]
  },
  {
   "cell_type": "code",
   "execution_count": null,
   "metadata": {
    "collapsed": false
   },
   "outputs": [],
   "source": [
    "[portfolio_nav([portfolio,trade], {\"3888.HK\":28}), scale(prices, 0.5)]"
   ]
  },
  {
   "cell_type": "code",
   "execution_count": null,
   "metadata": {
    "collapsed": false
   },
   "outputs": [],
   "source": [
    "%matplotlib inline\n",
    "\n",
    "def plot_one_asset(asset, xrange, portfolio_list, prices):\n",
    "    import matplotlib.pyplot as plt  \n",
    "    import numpy as np\n",
    "    x = np.arange(*xrange)\n",
    "    for i in range(1,len(portfolio_list)+1):\n",
    "        y = np.vectorize(lambda x: portfolio_nav(portfolio_list[:i], merge_dicts(prices, {asset:x})))(x)\n",
    "        plt.plot(x,y)\n",
    "    for i in marklines:\n",
    "        plt.axhline(y=i, xmin=0.0, xmax=1.0, ls='dashed' )\n",
    "    plt.axvline(x=prices[asset],ymin=0.0,ymax=1.0,ls='dashed' )\n",
    "    plt.grid(b=True, which='major', color='0.8', linestyle='--')\n",
    "\n",
    "plot_one_asset(\"3888.HK\",[10,35,0.1], [portfolio, trade], prices)"
   ]
  },
  {
   "cell_type": "code",
   "execution_count": null,
   "metadata": {
    "collapsed": false
   },
   "outputs": [],
   "source": [
    "def plot_scaled(portfolio_list, prices):\n",
    "    import matplotlib.pyplot as plt  \n",
    "    import numpy as np\n",
    "    x = np.arange(0,1.5,0.05)\n",
    "    for i in range(1,len(portfolio_list)+1):\n",
    "        y = np.vectorize(lambda x: portfolio_nav(portfolio_list[:i], scale(prices,x)))(x)\n",
    "        plt.plot(x,y)\n",
    "    for i in marklines:\n",
    "        plt.axhline(y=i, xmin=0.0, xmax=1.0, ls='dashed' )\n",
    "    plt.grid(b=True, which='major', color='0.8', linestyle='--')\n",
    "\n",
    "plot_scaled([portfolio, trade], prices)"
   ]
  },
  {
   "cell_type": "code",
   "execution_count": null,
   "metadata": {
    "collapsed": true
   },
   "outputs": [],
   "source": []
  }
 ],
 "metadata": {
  "kernelspec": {
   "display_name": "Python 3",
   "language": "python",
   "name": "python3"
  },
  "language_info": {
   "codemirror_mode": {
    "name": "ipython",
    "version": 3
   },
   "file_extension": ".py",
   "mimetype": "text/x-python",
   "name": "python",
   "nbconvert_exporter": "python",
   "pygments_lexer": "ipython3",
   "version": "3.4.3"
  }
 },
 "nbformat": 4,
 "nbformat_minor": 0
}
