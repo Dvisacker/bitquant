{
 "cells": [
  {
   "cell_type": "code",
   "execution_count": null,
   "metadata": {
    "collapsed": false
   },
   "outputs": [],
   "source": [
    "# https://ep2013.europython.eu/media/conference/slides/fast-data-mining-with-pytables-and-pandas.pdf\n",
    "\n",
    "#1. Data Gathering\n",
    "from pylab import *\n",
    "from pandas.io.data import *\n",
    "AAPL  = DataReader('AAPL', 'yahoo', start='01/01/2010')"
   ]
  },
  {
   "cell_type": "code",
   "execution_count": null,
   "metadata": {
    "collapsed": false
   },
   "outputs": [],
   "source": [
    "# 2. Data Analysis\n",
    "from pandas import *\n",
    "AAPL['Ret'] = log(AAPL['Close']/AAPL['Close'].shift(1))"
   ]
  },
  {
   "cell_type": "code",
   "execution_count": null,
   "metadata": {
    "collapsed": false
   },
   "outputs": [],
   "source": [
    "# 3. Plotting \n",
    "%matplotlib inline\n",
    "from matplotlib import *\n",
    "\n",
    "subplot(211)\n",
    "AAPL['Close'].plot()\n",
    "ylabel('Index Level')\n",
    "\n",
    "subplot(212)\n",
    "AAPL['Ret'].plot()\n",
    "ylabel('Log Returns')"
   ]
  },
  {
   "cell_type": "code",
   "execution_count": null,
   "metadata": {
    "collapsed": false
   },
   "outputs": [],
   "source": [
    "#4. Monte Carlo Simulation\n",
    "S0 = AAPL['Close'][-1]\n",
    "vol = std(AAPL['Ret'])*sqrt(262)\n",
    "r = 0.026; K=S0*1.1; T=1.0; M=50; dt=T/M; I=10000\n",
    "S=zeros((M+1,I)); S[0,:]=S0\n",
    "for t in range(1,M+1):\n",
    "    ran = standard_normal(I)\n",
    "    S[t,:]=S[t-1,:]*exp((r-vol**2/2)*dt*vol*sqrt(dt)*ran)"
   ]
  },
  {
   "cell_type": "code",
   "execution_count": null,
   "metadata": {
    "collapsed": false
   },
   "outputs": [],
   "source": [
    "#5. Option Valuation\n",
    "V0=exp(-r*T)*sum(maximum(S[-1]-K,0))/I\n",
    "print (\"Call Value %8.3f\" % V0)"
   ]
  },
  {
   "cell_type": "code",
   "execution_count": null,
   "metadata": {
    "collapsed": false
   },
   "outputs": [],
   "source": []
  }
 ],
 "metadata": {
  "kernelspec": {
   "display_name": "Python 3",
   "language": "python",
   "name": "python3"
  },
  "language_info": {
   "codemirror_mode": {
    "name": "ipython",
    "version": 3
   },
   "file_extension": ".py",
   "mimetype": "text/x-python",
   "name": "python",
   "nbconvert_exporter": "python",
   "pygments_lexer": "ipython3",
   "version": "3.4.3"
  }
 },
 "nbformat": 4,
 "nbformat_minor": 0
}
