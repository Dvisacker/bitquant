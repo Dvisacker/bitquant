{
 "cells": [
  {
   "cell_type": "code",
   "execution_count": null,
   "metadata": {
    "collapsed": true
   },
   "outputs": [],
   "source": [
    "import tornado.ioloop\n",
    "has_ioloop = tornado.ioloop.IOLoop.initialized()\n",
    "myport = 9500\n",
    "server_list = {}\n",
    "prefix_list = {}\n",
    "proxy_private = 9011\n",
    "\n",
    "def get_port():\n",
    "    myport = 9500\n",
    "    while True:\n",
    "        if not myport in server_list.keys():\n",
    "            return myport\n",
    "        myport = myport + 1\n",
    "\n",
    "def register_port(prefix, port):\n",
    "    import json\n",
    "    import urllib.request\n",
    "    data = {\"target\" : \"http://localhost:%d\" %  port }\n",
    "    request = urllib.request.Request(\"http://localhost:%d/api/routes%s\"\n",
    "                                     % (proxy_private, prefix))\n",
    "    request.add_header('Content-Type', 'application/json')\n",
    "    response = urllib.request.urlopen(request,\n",
    "                                      json.dumps(data).encode('utf-8'))\n",
    "\n",
    "def register_start_app(prefix, app_list):\n",
    "    import tornado.web\n",
    "    import tornado.httpserver\n",
    "    \n",
    "    if prefix in prefix_list:\n",
    "        unregister(prefix_list[prefix])\n",
    "\n",
    "    application = tornado.web.Application(app_list)\n",
    "    http_server = tornado.httpserver.HTTPServer(application)\n",
    "    port = get_port()\n",
    "    http_server.listen(port)\n",
    "    register_port(prefix, port)\n",
    "    prefix_list[prefix] = port\n",
    "    server_list[port] = http_server\n",
    "    return port\n",
    "\n",
    "def register_tornado_handler(prefix, handler):\n",
    "    return register_start_app(prefix, [\n",
    "        (r\"($|/.*$)\", handler)\n",
    "        ])\n",
    "\n",
    "def register_wsgi(prefix, handler):\n",
    "    import tornado.wsgi\n",
    "    container = tornado.wsgi.WSGIContainer(handler)\n",
    "    return register_start_app(prefix, [\n",
    "        (r\"($|/.*$)\",\n",
    "         tornado.web.FallbackHandler, dict(fallback=container))\n",
    "        ])\n",
    "\n",
    "def unregister(port):\n",
    "    server_list[port].stop()\n",
    "    del server_list[port]\n",
    "\n",
    "def unregister_all():\n",
    "    for k, v in list(server_list.items()):\n",
    "        v.stop()\n",
    "        del server_list[k]\n",
    "\n",
    "def start_loop():\n",
    "    if not has_ioloop:\n",
    "        tornado.ioloop.IOLoop.instance().start()\n",
    "  "
   ]
  },
  {
   "cell_type": "code",
   "execution_count": null,
   "metadata": {
    "collapsed": true
   },
   "outputs": [],
   "source": []
  }
 ],
 "metadata": {
  "kernelspec": {
   "display_name": "Python 3",
   "language": "python",
   "name": "python3"
  },
  "language_info": {
   "codemirror_mode": {
    "name": "ipython",
    "version": 3
   },
   "file_extension": ".py",
   "mimetype": "text/x-python",
   "name": "python",
   "nbconvert_exporter": "python",
   "pygments_lexer": "ipython3",
   "version": "3.5.1"
  }
 },
 "nbformat": 4,
 "nbformat_minor": 0
}
