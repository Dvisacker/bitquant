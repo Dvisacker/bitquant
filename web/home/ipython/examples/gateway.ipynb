{
 "metadata": {
  "name": "",
  "signature": "sha256:70e3634d52e18d8b455c03a516e2560cb4bf86dfb256d8ef62edd5d8c70074ba"
 },
 "nbformat": 3,
 "nbformat_minor": 0,
 "worksheets": [
  {
   "cells": [
    {
     "cell_type": "code",
     "collapsed": false,
     "input": [
      "from py4j.java_gateway import JavaGateway, get_field\n",
      "gateway = JavaGateway()\n",
      "random = gateway.jvm.java.util.Random()\n",
      "number1 = random.nextInt(10)\n",
      "number2 = random.nextInt(10)\n",
      "print(number1,number2)\n"
     ],
     "language": "python",
     "metadata": {},
     "outputs": []
    },
    {
     "cell_type": "code",
     "collapsed": false,
     "input": [
      "className = gateway.jvm.com.xeiam.xchange.bitstamp.BitstampExchange().getClass().getName()\n",
      "bitstamp = gateway.jvm.com.xeiam.xchange.ExchangeFactory.INSTANCE.createExchange(className)\n",
      "marketDataService = bitstamp.getPollingMarketDataService()\n",
      "pair = gateway.jvm.com.xeiam.xchange.currency.CurrencyPair.BTC_USD\n",
      "ticker1 = marketDataService.getTicker(pair, gateway.new_array(gateway.jvm.Object, 0));\n",
      "print ticker1.toString()\n",
      "ticker2 = marketDataService.getBitstampTicker()\n",
      "print ticker2.toString()"
     ],
     "language": "python",
     "metadata": {},
     "outputs": []
    },
    {
     "cell_type": "code",
     "collapsed": false,
     "input": [],
     "language": "python",
     "metadata": {},
     "outputs": []
    },
    {
     "cell_type": "code",
     "collapsed": false,
     "input": [],
     "language": "python",
     "metadata": {},
     "outputs": []
    }
   ],
   "metadata": {}
  }
 ]
}