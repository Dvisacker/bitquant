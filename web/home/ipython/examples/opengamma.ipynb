{
 "metadata": {
  "name": "",
  "signature": "sha256:43012d3ca3852e4396569ba49a27eeaa3c57ab09dd41e635067ca6d16dee577d"
 },
 "nbformat": 3,
 "nbformat_minor": 0,
 "worksheets": [
  {
   "cells": [
    {
     "cell_type": "code",
     "collapsed": false,
     "input": [
      "from py4j.java_gateway import JavaGateway, get_field\n",
      "gateway = JavaGateway()\n",
      "random = gateway.jvm.java.util.Random()\n",
      "number1 = random.nextInt(10)\n",
      "number2 = random.nextInt(10)\n",
      "print(number1,number2)"
     ],
     "language": "python",
     "metadata": {},
     "outputs": [
      {
       "output_type": "stream",
       "stream": "stdout",
       "text": [
        "(6, 3)\n"
       ]
      }
     ],
     "prompt_number": 6
    },
    {
     "cell_type": "code",
     "collapsed": false,
     "input": [
      "print gateway.help(gateway.jvm.com.opengamma.core.historicaltimeseries.HistoricalTimeSeriesSource,display=False)"
     ],
     "language": "python",
     "metadata": {},
     "outputs": [
      {
       "output_type": "stream",
       "stream": "stdout",
       "text": [
        "Help on class HistoricalTimeSeriesSource in package com.opengamma.core.historicaltimeseries:\n",
        "\n",
        "HistoricalTimeSeriesSource implements com.opengamma.core.change.ChangeProvider {\n",
        "|  \n",
        "|  Methods defined here:\n",
        "|  \n",
        "|  getExternalIdBundle(UniqueId) : ExternalIdBundle\n",
        "|  \n",
        "|  getHistoricalTimeSeries(String, ExternalIdBundle, LocalDate, String, LocalDate, boolean, LocalDate, boolean) : HistoricalTimeSeries\n",
        "|  \n",
        "|  getHistoricalTimeSeries(String, ExternalIdBundle, LocalDate, String, LocalDate, boolean, LocalDate, boolean, int) : HistoricalTimeSeries\n",
        "|  \n",
        "|  getHistoricalTimeSeries(String, ExternalIdBundle, LocalDate, String) : HistoricalTimeSeries\n",
        "|  \n",
        "|  getHistoricalTimeSeries(Set, String, String, String, LocalDate, boolean, LocalDate, boolean) : Map\n",
        "|  \n",
        "|  getHistoricalTimeSeries(UniqueId, LocalDate, boolean, LocalDate, boolean) : HistoricalTimeSeries\n",
        "|  \n",
        "|  getHistoricalTimeSeries(UniqueId, LocalDate, boolean, LocalDate, boolean, int) : HistoricalTimeSeries\n",
        "|  \n",
        "|  getHistoricalTimeSeries(UniqueId) : HistoricalTimeSeries\n",
        "|  \n",
        "|  getHistoricalTimeSeries(ExternalIdBundle, String, String, String, LocalDate, boolean, LocalDate, boolean) : HistoricalTimeSeries\n",
        "|  \n",
        "|  getHistoricalTimeSeries(ExternalIdBundle, String, String, String, LocalDate, boolean, LocalDate, boolean, int) : HistoricalTimeSeries\n",
        "|  \n",
        "|  getHistoricalTimeSeries(ExternalIdBundle, LocalDate, String, String, String) : HistoricalTimeSeries\n",
        "|  \n",
        "|  getHistoricalTimeSeries(ExternalIdBundle, LocalDate, String, String, String, LocalDate, boolean, LocalDate, boolean, int) : HistoricalTimeSeries\n",
        "|  \n",
        "|  getHistoricalTimeSeries(ExternalIdBundle, LocalDate, String, String, String, LocalDate, boolean, LocalDate, boolean) : HistoricalTimeSeries\n",
        "|  \n",
        "|  getHistoricalTimeSeries(String, ExternalIdBundle, String, LocalDate, boolean, LocalDate, boolean, int) : HistoricalTimeSeries\n",
        "|  \n",
        "|  getHistoricalTimeSeries(String, ExternalIdBundle, String, LocalDate, boolean, LocalDate, boolean) : HistoricalTimeSeries\n",
        "|  \n",
        "|  getHistoricalTimeSeries(String, ExternalIdBundle, String) : HistoricalTimeSeries\n",
        "|  \n",
        "|  getHistoricalTimeSeries(ExternalIdBundle, String, String, String) : HistoricalTimeSeries\n",
        "|  \n",
        "|  getLatestDataPoint(ExternalIdBundle, String, String, String, LocalDate, boolean, LocalDate, boolean) : Pair\n",
        "|  \n",
        "|  getLatestDataPoint(ExternalIdBundle, String, String, String) : Pair\n",
        "|  \n",
        "|  getLatestDataPoint(ExternalIdBundle, LocalDate, String, String, String, LocalDate, boolean, LocalDate, boolean) : Pair\n",
        "|  \n",
        "|  getLatestDataPoint(ExternalIdBundle, LocalDate, String, String, String) : Pair\n",
        "|  \n",
        "|  getLatestDataPoint(String, ExternalIdBundle, LocalDate, String, LocalDate, boolean, LocalDate, boolean) : Pair\n",
        "|  \n",
        "|  getLatestDataPoint(String, ExternalIdBundle, LocalDate, String) : Pair\n",
        "|  \n",
        "|  getLatestDataPoint(String, ExternalIdBundle, String, LocalDate, boolean, LocalDate, boolean) : Pair\n",
        "|  \n",
        "|  getLatestDataPoint(String, ExternalIdBundle, String) : Pair\n",
        "|  \n",
        "|  getLatestDataPoint(UniqueId, LocalDate, boolean, LocalDate, boolean) : Pair\n",
        "|  \n",
        "|  getLatestDataPoint(UniqueId) : Pair\n",
        "|  \n",
        "|  ------------------------------------------------------------\n",
        "|  Fields defined here:\n",
        "|  \n",
        "|  ------------------------------------------------------------\n",
        "|  Internal classes defined here:\n",
        "|  \n",
        "}\n"
       ]
      }
     ],
     "prompt_number": 10
    },
    {
     "cell_type": "code",
     "collapsed": false,
     "input": [
      "req = gateway.jvm.com.opengamma.master.security.SecuritySearchRequest()"
     ],
     "language": "python",
     "metadata": {},
     "outputs": [],
     "prompt_number": 11
    },
    {
     "cell_type": "code",
     "collapsed": false,
     "input": [
      "req.setName(\"*OpenGamma*\")"
     ],
     "language": "python",
     "metadata": {},
     "outputs": [],
     "prompt_number": 12
    },
    {
     "cell_type": "code",
     "collapsed": false,
     "input": [],
     "language": "python",
     "metadata": {},
     "outputs": []
    },
    {
     "cell_type": "code",
     "collapsed": false,
     "input": [
      "baseUri = gateway.jvm.java.net.URI('http://localhost:8080/jax')"
     ],
     "language": "python",
     "metadata": {},
     "outputs": [],
     "prompt_number": 14
    },
    {
     "cell_type": "code",
     "collapsed": false,
     "input": [
      "componentFactory = gateway.jvm.com.opengamma.component.factory.RemoteComponentFactory(baseUri)"
     ],
     "language": "python",
     "metadata": {},
     "outputs": [],
     "prompt_number": 15
    },
    {
     "cell_type": "code",
     "collapsed": false,
     "input": [
      "viewprocessor = componentFactory.getViewProcessor(\"main\")"
     ],
     "language": "python",
     "metadata": {},
     "outputs": [],
     "prompt_number": 16
    },
    {
     "cell_type": "code",
     "collapsed": false,
     "input": [
      "localuser = gateway.jvm.com.opengamma.livedata.UserPrincipal.getLocalUser()"
     ],
     "language": "python",
     "metadata": {},
     "outputs": [],
     "prompt_number": 17
    },
    {
     "cell_type": "code",
     "collapsed": false,
     "input": [
      "localuser"
     ],
     "language": "python",
     "metadata": {},
     "outputs": [
      {
       "metadata": {},
       "output_type": "pyout",
       "prompt_number": 18,
       "text": [
        "JavaObject id=o7"
       ]
      }
     ],
     "prompt_number": 18
    },
    {
     "cell_type": "code",
     "collapsed": false,
     "input": [
      "viewclient = viewprocessor.createViewClient(localuser)"
     ],
     "language": "python",
     "metadata": {},
     "outputs": [],
     "prompt_number": 20
    },
    {
     "cell_type": "code",
     "collapsed": false,
     "input": [
      "cs = "
     ],
     "language": "python",
     "metadata": {},
     "outputs": []
    }
   ],
   "metadata": {}
  }
 ]
}